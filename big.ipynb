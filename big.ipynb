{
  "ipynb": {
    "cells": [
      {
        "cell_type": "markdown",
        "metadata": {
          "tiptapContent": {
            "type": "doc",
            "content": [
              {
                "type": "heading",
                "attrs": {
                  "level": 1
                },
                "content": [
                  {
                    "type": "text",
                    "text": "A Quarto Page Layout Example"
                  }
                ]
              },
              {
                "type": "paragraph",
                "content": [
                  {
                    "type": "text",
                    "text": "Inspired by Tufte Handout, Using Quarto"
                  }
                ]
              },
              {
                "type": "heading",
                "attrs": {
                  "level": 1
                },
                "content": [
                  {
                    "type": "text",
                    "text": "Introduction"
                  }
                ]
              },
              {
                "type": "paragraph",
                "content": [
                  {
                    "type": "text",
                    "text": "This document demonstrates the use of a number of advanced page layout features to produce an attractive and usable document inspired by the Tufte handout style and the use of Tufte’s styles in RMarkdown documents (Xie, Allaire, and Grolemund 2018). The Tufte handout style is a style that Edward Tufte uses in his books and handouts. Tufte’s style is known for its extensive use of sidenotes, tight integration of graphics with text, and well-set typography. Quarto[1] supports most of the layout techniques that are used in the Tufte handout style for both HTML and LaTeX/PDF output."
                  }
                ]
              },
              {
                "type": "codeBlock",
                "attrs": {
                  "language": "yaml"
                },
                "content": [
                  {
                    "type": "text",
                    "text": "---\ntitle: \"An Example Using the Tufte Style\"\nauthor: \"John Smith\"\nformat:\n  html:\n    grid:\n      margin-width: 350px\n  pdf: default\nreference-location: margin\ncitation-location: margin\n---\n"
                  }
                ]
              },
              {
                "type": "paragraph",
                "content": [
                  {
                    "type": "text",
                    "text": "Line 7"
                  },
                  {
                    "type": "hardBreak"
                  },
                  {
                    "type": "text",
                    "text": "Increases the width of the margin to make more room for sidenotes and margin figures (HTML only)."
                  }
                ]
              },
              {
                "type": "paragraph",
                "content": [
                  {
                    "type": "text",
                    "text": "Lines 9-10"
                  },
                  {
                    "type": "hardBreak"
                  },
                  {
                    "type": "text",
                    "text": "Places footnotes and cited sources in the margin. Other layout options (for example placing a figure in the margin) will be set per element in examples below."
                  }
                ]
              },
              {
                "type": "paragraph",
                "content": [
                  {
                    "type": "text",
                    "text": "These layout features are designed with two important goals in mind:"
                  }
                ]
              },
              {
                "type": "orderedList",
                "attrs": {
                  "start": 1
                },
                "content": [
                  {
                    "type": "listItem",
                    "content": [
                      {
                        "type": "paragraph",
                        "content": [
                          {
                            "type": "text",
                            "text": "To produce both PDF and HTML output with similar styles from the same Quarto document;"
                          }
                        ]
                      }
                    ]
                  },
                  {
                    "type": "listItem",
                    "content": [
                      {
                        "type": "paragraph",
                        "content": [
                          {
                            "type": "text",
                            "text": "To provide simple syntax to write elements of the Tufte style such as side notes and margin figures. If you’d like a figure placed in the margin, just set the option "
                          },
                          {
                            "type": "text",
                            "marks": [
                              {
                                "type": "code"
                              }
                            ],
                            "text": "fig-column: margin"
                          },
                          {
                            "type": "text",
                            "text": " for your code chunk, and we will take care of the details for you[2]."
                          }
                        ]
                      }
                    ]
                  }
                ]
              },
              {
                "type": "paragraph",
                "content": [
                  {
                    "type": "text",
                    "text": "If you have any feature requests or find bugs in these capabilities, please do not hesitate to file them to https://github.com/quarto-dev/quarto-cli/issues."
                  }
                ]
              },
              {
                "type": "heading",
                "attrs": {
                  "level": 1
                },
                "content": [
                  {
                    "type": "text",
                    "text": "Figures"
                  }
                ]
              },
              {
                "type": "heading",
                "attrs": {
                  "level": 2
                },
                "content": [
                  {
                    "type": "text",
                    "text": "Margin Figures"
                  }
                ]
              },
              {
                "type": "paragraph",
                "content": [
                  {
                    "type": "text",
                    "text": "Images and graphics play an integral role in Tufte’s work. To place figures in the margin you can use the "
                  },
                  {
                    "type": "text",
                    "marks": [
                      {
                        "type": "bold"
                      }
                    ],
                    "text": "Quarto"
                  },
                  {
                    "type": "text",
                    "text": " chunk option "
                  },
                  {
                    "type": "text",
                    "marks": [
                      {
                        "type": "code"
                      }
                    ],
                    "text": "column: margin"
                  },
                  {
                    "type": "text",
                    "text": ". For example:"
                  }
                ]
              },
              {
                "type": "paragraph",
                "content": [
                  {
                    "type": "text",
                    "text": "[1] To learn more, you can read more about Quarto or visit Quarto’s Github repository."
                  }
                ]
              },
              {
                "type": "paragraph",
                "content": [
                  {
                    "type": "text",
                    "text": "[2] You never need to think about "
                  },
                  {
                    "type": "text",
                    "marks": [
                      {
                        "type": "code"
                      }
                    ],
                    "text": "\\begin{marginfigure}"
                  },
                  {
                    "type": "text",
                    "text": " or "
                  },
                  {
                    "type": "text",
                    "marks": [
                      {
                        "type": "code"
                      }
                    ],
                    "text": "<span class=\"marginfigure\">"
                  },
                  {
                    "type": "text",
                    "text": "; the LaTeX and HTML code under the hood may be complicated, but you never need to learn or write such code."
                  }
                ]
              }
            ]
          }
        },
        "source": [
          "# A Quarto Page Layout Example\n",
          "\n",
          "Inspired by Tufte Handout, Using Quarto\n",
          "\n",
          "# Introduction\n",
          "\n",
          "This document demonstrates the use of a number of advanced page layout features to produce an attractive and usable document inspired by the Tufte handout style and the use of Tufte’s styles in RMarkdown documents (Xie, Allaire, and Grolemund 2018). The Tufte handout style is a style that Edward Tufte uses in his books and handouts. Tufte’s style is known for its extensive use of sidenotes, tight integration of graphics with text, and well-set typography. Quarto\\[1\\] supports most of the layout techniques that are used in the Tufte handout style for both HTML and LaTeX/PDF output.\n",
          "\n",
          "```yaml\n",
          "---\n",
          "title: \"An Example Using the Tufte Style\"\n",
          "author: \"John Smith\"\n",
          "format:\n",
          "html:\n",
          "grid:\n",
          "margin-width: 350px\n",
          "pdf: default\n",
          "reference-location: margin\n",
          "citation-location: margin\n",
          "---\n",
          "```\n",
          "\n",
          "Line 7\n",
          "Increases the width of the margin to make more room for sidenotes and margin figures (HTML only).\n",
          "\n",
          "Lines 9-10\n",
          "Places footnotes and cited sources in the margin. Other layout options (for example placing a figure in the margin) will be set per element in examples below.\n",
          "\n",
          "These layout features are designed with two important goals in mind:\n",
          "\n",
          "1.  To produce both PDF and HTML output with similar styles from the same Quarto document;\n",
          "\n",
          "2.  To provide simple syntax to write elements of the Tufte style such as side notes and margin figures. If you’d like a figure placed in the margin, just set the option `fig-column: margin` for your code chunk, and we will take care of the details for you\\[2\\].\n",
          "\n",
          "If you have any feature requests or find bugs in these capabilities, please do not hesitate to file them to https://github.com/quarto-dev/quarto-cli/issues.\n",
          "\n",
          "# Figures\n",
          "\n",
          "## Margin Figures\n",
          "\n",
          "Images and graphics play an integral role in Tufte’s work. To place figures in the margin you can use the **Quarto** chunk option `column: margin`. For example:\n",
          "\n",
          "\\[1\\] To learn more, you can read more about Quarto or visit Quarto’s Github repository.\n",
          "\n",
          "\\[2\\] You never need to think about `\\begin{marginfigure}` or `<span class=\"marginfigure\">`; the LaTeX and HTML code under the hood may be complicated, but you never need to learn or write such code.\n"
        ]
      },
      {
        "cell_type": "code",
        "execution_count": null,
        "metadata": {},
        "source": [
          "library(ggplot2)",
          "mtcars2 <- mtcars",
          "mtcars2$am <- factor(",
          "  mtcars$am, labels = c('automatic', 'manual')",
          ")",
          "ggplot(mtcars2, aes(hp, mpg, color = am)) +",
          "  geom_point() + geom_smooth() +",
          "  theme(legend.position = 'bottom')"
        ],
        "outputs": []
      },
      {
        "cell_type": "markdown",
        "metadata": {
          "tiptapContent": {
            "type": "doc",
            "content": [
              {
                "type": "paragraph",
                "content": [
                  {
                    "type": "text",
                    "text": "Note the use of the "
                  },
                  {
                    "type": "text",
                    "marks": [
                      {
                        "type": "code"
                      }
                    ],
                    "text": "fig-cap"
                  },
                  {
                    "type": "text",
                    "text": " chunk option to provide a figure caption. You can adjust the proportions of figures using the "
                  },
                  {
                    "type": "text",
                    "marks": [
                      {
                        "type": "code"
                      }
                    ],
                    "text": "fig-width"
                  },
                  {
                    "type": "text",
                    "text": " and "
                  },
                  {
                    "type": "text",
                    "marks": [
                      {
                        "type": "code"
                      }
                    ],
                    "text": "fig-height"
                  },
                  {
                    "type": "text",
                    "text": " chunk options. These are specified in inches, and will be automatically scaled down to fit within the handout margin."
                  }
                ]
              },
              {
                "type": "heading",
                "attrs": {
                  "level": 2
                },
                "content": [
                  {
                    "type": "text",
                    "text": "Arbitrary Margin Content"
                  }
                ]
              },
              {
                "type": "paragraph",
                "content": [
                  {
                    "type": "text",
                    "text": "You can include anything in the margin by places the class "
                  },
                  {
                    "type": "text",
                    "marks": [
                      {
                        "type": "code"
                      }
                    ],
                    "text": ".column-margin"
                  },
                  {
                    "type": "text",
                    "text": " on the element. See an example on the right about the first fundamental theorem of calculus."
                  }
                ]
              },
              {
                "type": "paragraph",
                "content": [
                  {
                    "type": "text",
                    "text": "We know from "
                  },
                  {
                    "type": "text",
                    "marks": [
                      {
                        "type": "italic"
                      }
                    ],
                    "text": "the first fundamental theorem of calculus"
                  },
                  {
                    "type": "text",
                    "text": " that for $x$ in $[a, b]$:"
                  }
                ]
              },
              {
                "type": "math",
                "attrs": {
                  "showRendered": true
                },
                "content": [
                  {
                    "type": "text",
                    "text": "\\frac{d}{dx}\\left( \\int_{a}^{x} f(u)\\,du\\right)=f(x)."
                  }
                ]
              },
              {
                "type": "heading",
                "attrs": {
                  "level": 2
                },
                "content": [
                  {
                    "type": "text",
                    "text": "Full Width Figures"
                  }
                ]
              },
              {
                "type": "paragraph",
                "content": [
                  {
                    "type": "text",
                    "text": "You can arrange for figures to span across the entire page by using the chunk option "
                  },
                  {
                    "type": "text",
                    "marks": [
                      {
                        "type": "code"
                      }
                    ],
                    "text": "fig-column: page-right"
                  },
                  {
                    "type": "text",
                    "text": "."
                  }
                ]
              }
            ]
          }
        },
        "source": [
          "Note the use of the `fig-cap` chunk option to provide a figure caption. You can adjust the proportions of figures using the `fig-width` and `fig-height` chunk options. These are specified in inches, and will be automatically scaled down to fit within the handout margin.\n",
          "\n",
          "## Arbitrary Margin Content\n",
          "\n",
          "You can include anything in the margin by places the class `.column-margin` on the element. See an example on the right about the first fundamental theorem of calculus.\n",
          "\n",
          "We know from _the first fundamental theorem of calculus_ that for $x$ in $\\[a, b\\]$:\n",
          "\n",
          "$$\\frac{d}{dx}\\left( \\int\\_{a}^{x} f(u)\\,du\\right)=f(x).$$\n",
          "\n",
          "## Full Width Figures\n",
          "\n",
          "You can arrange for figures to span across the entire page by using the chunk option `fig-column: page-right`.\n"
        ]
      },
      {
        "cell_type": "code",
        "execution_count": null,
        "metadata": {},
        "source": [
          "ggplot(diamonds, aes(carat, price)) + geom_smooth() +",
          "  facet_grid(~ cut)"
        ],
        "outputs": []
      },
      {
        "cell_type": "markdown",
        "metadata": {
          "tiptapContent": {
            "type": "doc",
            "content": [
              {
                "type": "paragraph",
                "content": [
                  {
                    "type": "text",
                    "text": "Other chunk options related to figures can still be used, such as "
                  },
                  {
                    "type": "text",
                    "marks": [
                      {
                        "type": "code"
                      }
                    ],
                    "text": "fig-width"
                  },
                  {
                    "type": "text",
                    "text": ", "
                  },
                  {
                    "type": "text",
                    "marks": [
                      {
                        "type": "code"
                      }
                    ],
                    "text": "fig-cap"
                  },
                  {
                    "type": "text",
                    "text": ", and so on. For full width figures, usually "
                  },
                  {
                    "type": "text",
                    "marks": [
                      {
                        "type": "code"
                      }
                    ],
                    "text": "fig-width"
                  },
                  {
                    "type": "text",
                    "text": " is large and "
                  },
                  {
                    "type": "text",
                    "marks": [
                      {
                        "type": "code"
                      }
                    ],
                    "text": "fig-height"
                  },
                  {
                    "type": "text",
                    "text": " is small. In the above example, the plot size is $11 \\times 3$."
                  }
                ]
              },
              {
                "type": "heading",
                "attrs": {
                  "level": 2
                },
                "content": [
                  {
                    "type": "text",
                    "text": "Arbitrary Full Width Content"
                  }
                ]
              },
              {
                "type": "paragraph",
                "content": [
                  {
                    "type": "text",
                    "text": "Any content can span to the full width of the page, simply place the element in a "
                  },
                  {
                    "type": "text",
                    "marks": [
                      {
                        "type": "code"
                      }
                    ],
                    "text": "div"
                  },
                  {
                    "type": "text",
                    "text": " and add the class "
                  },
                  {
                    "type": "text",
                    "marks": [
                      {
                        "type": "code"
                      }
                    ],
                    "text": "column-page-right"
                  },
                  {
                    "type": "text",
                    "text": ". For example, the following code will display its contents as full width."
                  }
                ]
              },
              {
                "type": "codeBlock",
                "attrs": {
                  "language": "md"
                },
                "content": [
                  {
                    "type": "text",
                    "text": "::: {.fullwidth}\nAny _full width_ content here.\n:::\n"
                  }
                ]
              },
              {
                "type": "paragraph",
                "content": [
                  {
                    "type": "text",
                    "text": "Below is an example:"
                  }
                ]
              },
              {
                "type": "paragraph",
                "content": [
                  {
                    "type": "text",
                    "marks": [
                      {
                        "type": "italic"
                      }
                    ],
                    "text": "R is free software and comes with ABSOLUTELY NO WARRANTY."
                  },
                  {
                    "type": "text",
                    "text": " You are welcome to redistribute it under the terms of the GNU General Public License versions 2 or 3. For more information about these matters see https://www.gnu.org/licenses/."
                  }
                ]
              },
              {
                "type": "heading",
                "attrs": {
                  "level": 2
                },
                "content": [
                  {
                    "type": "text",
                    "text": "Main Column Figures"
                  }
                ]
              },
              {
                "type": "paragraph",
                "content": [
                  {
                    "type": "text",
                    "text": "Besides margin and full width figures, you can of course also include figures constrained to the main column. This is the default type of figures in the LaTeX/HTML output."
                  }
                ]
              }
            ]
          }
        },
        "source": [
          "Other chunk options related to figures can still be used, such as `fig-width`, `fig-cap`, and so on. For full width figures, usually `fig-width` is large and `fig-height` is small. In the above example, the plot size is $11 \\\\times 3$.\n",
          "\n",
          "## Arbitrary Full Width Content\n",
          "\n",
          "Any content can span to the full width of the page, simply place the element in a `div` and add the class `column-page-right`. For example, the following code will display its contents as full width.\n",
          "\n",
          "```md\n",
          "::: {.fullwidth}\n",
          "Any _full width_ content here.\n",
          ":::\n",
          "```\n",
          "\n",
          "Below is an example:\n",
          "\n",
          "_R is free software and comes with ABSOLUTELY NO WARRANTY._ You are welcome to redistribute it under the terms of the GNU General Public License versions 2 or 3. For more information about these matters see https://www.gnu.org/licenses/.\n",
          "\n",
          "## Main Column Figures\n",
          "\n",
          "Besides margin and full width figures, you can of course also include figures constrained to the main column. This is the default type of figures in the LaTeX/HTML output.\n"
        ]
      },
      {
        "cell_type": "code",
        "execution_count": null,
        "metadata": {},
        "source": [
          "ggplot(diamonds, aes(cut, price)) + geom_boxplot()"
        ],
        "outputs": [
          {
            "output_type": "display_data",
            "metadata": {},
            "data": {}
          }
        ]
      },
      {
        "cell_type": "markdown",
        "metadata": {
          "tiptapContent": {
            "type": "doc",
            "content": [
              {
                "type": "heading",
                "attrs": {
                  "level": 2
                },
                "content": [
                  {
                    "type": "text",
                    "text": "Margin Captions"
                  }
                ]
              },
              {
                "type": "paragraph",
                "content": [
                  {
                    "type": "text",
                    "text": "When you include a figure constrained to the main column, you can choose to place the figure’s caption in the margin by using the "
                  },
                  {
                    "type": "text",
                    "marks": [
                      {
                        "type": "code"
                      }
                    ],
                    "text": "cap-location"
                  },
                  {
                    "type": "text",
                    "text": " chunk option. For example:"
                  }
                ]
              }
            ]
          }
        },
        "source": [
          "## Margin Captions\n",
          "\n",
          "When you include a figure constrained to the main column, you can choose to place the figure’s caption in the margin by using the `cap-location` chunk option. For example:\n"
        ]
      },
      {
        "cell_type": "code",
        "execution_count": null,
        "metadata": {},
        "source": [
          "ggplot(diamonds, aes(cut, price)) + geom_boxplot()"
        ],
        "outputs": []
      },
      {
        "cell_type": "markdown",
        "metadata": {
          "tiptapContent": {
            "type": "doc",
            "content": [
              {
                "type": "heading",
                "attrs": {
                  "level": 1
                },
                "content": [
                  {
                    "type": "text",
                    "text": "Sidenotes"
                  }
                ]
              },
              {
                "type": "paragraph",
                "content": [
                  {
                    "type": "text",
                    "text": "One of the most prominent and distinctive features of this style is the extensive use of sidenotes. There is a wide margin to provide ample room for sidenotes and small figures. Any use of a footnote will automatically be converted to a sidenote."
                  }
                ]
              },
              {
                "type": "paragraph",
                "content": [
                  {
                    "type": "text",
                    "text": "This is a span that has the class "
                  },
                  {
                    "type": "text",
                    "marks": [
                      {
                        "type": "code"
                      }
                    ],
                    "text": "column-margin"
                  },
                  {
                    "type": "text",
                    "text": " which places it in the margin without the sidenote mark. If you’d like to place ancillary information in the margin without the sidenote mark (the superscript number), you can use apply the "
                  },
                  {
                    "type": "text",
                    "marks": [
                      {
                        "type": "code"
                      }
                    ],
                    "text": "column-margin"
                  },
                  {
                    "type": "text",
                    "text": " class to the element."
                  }
                ]
              },
              {
                "type": "heading",
                "attrs": {
                  "level": 1
                },
                "content": [
                  {
                    "type": "text",
                    "text": "References"
                  }
                ]
              },
              {
                "type": "paragraph",
                "content": [
                  {
                    "type": "text",
                    "text": "References can be displayed as margin notes for HTML output. For example, we can cite R here (R Core Team 2021)."
                  }
                ]
              },
              {
                "type": "blockquote",
                "content": [
                  {
                    "type": "paragraph",
                    "content": [
                      {
                        "type": "text",
                        "marks": [
                          {
                            "type": "bold"
                          }
                        ],
                        "text": "Note"
                      }
                    ]
                  },
                  {
                    "type": "paragraph",
                    "content": [
                      {
                        "type": "text",
                        "text": "This feature depends upon "
                      },
                      {
                        "type": "text",
                        "marks": [
                          {
                            "type": "code"
                          }
                        ],
                        "text": "link-citations"
                      },
                      {
                        "type": "text",
                        "text": " to locate and place references in the margin. This is enabled by default, but if you disable "
                      },
                      {
                        "type": "text",
                        "marks": [
                          {
                            "type": "code"
                          }
                        ],
                        "text": "link-citations"
                      },
                      {
                        "type": "text",
                        "text": " then references in the HTML output will be placed at the end of the output document as they normally are."
                      }
                    ]
                  }
                ]
              },
              {
                "type": "heading",
                "attrs": {
                  "level": 1
                },
                "content": [
                  {
                    "type": "text",
                    "text": "Tables"
                  }
                ]
              },
              {
                "type": "paragraph",
                "content": [
                  {
                    "type": "text",
                    "text": "You can use the "
                  },
                  {
                    "type": "text",
                    "marks": [
                      {
                        "type": "code"
                      }
                    ],
                    "text": "kable()"
                  },
                  {
                    "type": "text",
                    "text": " function from the "
                  },
                  {
                    "type": "text",
                    "marks": [
                      {
                        "type": "bold"
                      }
                    ],
                    "text": "knitr"
                  },
                  {
                    "type": "text",
                    "text": " package to format tables that integrate well with the rest of the Tufte handout style. The table captions are placed in the margin like figures in the HTML output."
                  }
                ]
              }
            ]
          }
        },
        "source": [
          "# Sidenotes\n",
          "\n",
          "One of the most prominent and distinctive features of this style is the extensive use of sidenotes. There is a wide margin to provide ample room for sidenotes and small figures. Any use of a footnote will automatically be converted to a sidenote.\n",
          "\n",
          "This is a span that has the class `column-margin` which places it in the margin without the sidenote mark. If you’d like to place ancillary information in the margin without the sidenote mark (the superscript number), you can use apply the `column-margin` class to the element.\n",
          "\n",
          "# References\n",
          "\n",
          "References can be displayed as margin notes for HTML output. For example, we can cite R here (R Core Team 2021).\n",
          "\n",
          "> **Note**\n",
          ">\n",
          "> This feature depends upon `link-citations` to locate and place references in the margin. This is enabled by default, but if you disable `link-citations` then references in the HTML output will be placed at the end of the output document as they normally are.\n",
          "\n",
          "# Tables\n",
          "\n",
          "You can use the `kable()` function from the **knitr** package to format tables that integrate well with the rest of the Tufte handout style. The table captions are placed in the margin like figures in the HTML output.\n"
        ]
      },
      {
        "cell_type": "code",
        "execution_count": null,
        "metadata": {},
        "source": [
          "knitr::kable(",
          "  mtcars[1:6, 1:6], caption = 'A subset of mtcars.'",
          ")"
        ],
        "outputs": []
      },
      {
        "cell_type": "markdown",
        "metadata": {
          "tiptapContent": {
            "type": "doc",
            "content": [
              {
                "type": "heading",
                "attrs": {
                  "level": 1
                },
                "content": [
                  {
                    "type": "text",
                    "text": "Responsiveness"
                  }
                ]
              },
              {
                "type": "paragraph",
                "content": [
                  {
                    "type": "text",
                    "text": "The HTML page layout is responsive- as the page width shrinks, elements will automatically adjust their position. Elements that appear in the margins will move inline with the content and elements that span the body and margin will automatically span only the body."
                  }
                ]
              },
              {
                "type": "heading",
                "attrs": {
                  "level": 1
                },
                "content": [
                  {
                    "type": "text",
                    "text": "More Examples"
                  }
                ]
              },
              {
                "type": "paragraph",
                "content": [
                  {
                    "type": "text",
                    "text": "The rest of this document consists of a few test cases to make sure everything still works well in slightly more complicated scenarios. First we generate two plots in one figure environment with the chunk option "
                  },
                  {
                    "type": "text",
                    "marks": [
                      {
                        "type": "code"
                      }
                    ],
                    "text": "fig-show: hold"
                  },
                  {
                    "type": "text",
                    "text": ":"
                  }
                ]
              }
            ]
          }
        },
        "source": [
          "# Responsiveness\n",
          "\n",
          "The HTML page layout is responsive- as the page width shrinks, elements will automatically adjust their position. Elements that appear in the margins will move inline with the content and elements that span the body and margin will automatically span only the body.\n",
          "\n",
          "# More Examples\n",
          "\n",
          "The rest of this document consists of a few test cases to make sure everything still works well in slightly more complicated scenarios. First we generate two plots in one figure environment with the chunk option `fig-show: hold`:\n"
        ]
      },
      {
        "cell_type": "code",
        "execution_count": null,
        "metadata": {},
        "source": [
          "p <- ggplot(mtcars2, aes(hp, mpg, color = am)) +",
          "  geom_point()",
          "p",
          "p + geom_smooth()"
        ],
        "outputs": []
      },
      {
        "cell_type": "markdown",
        "metadata": {
          "tiptapContent": {
            "type": "doc",
            "content": [
              {
                "type": "paragraph",
                "content": [
                  {
                    "type": "text",
                    "text": "Then two plots in separate figure environments (the code is identical to the previous code chunk, but the chunk option is the default "
                  },
                  {
                    "type": "text",
                    "marks": [
                      {
                        "type": "code"
                      }
                    ],
                    "text": "fig-show: asis"
                  },
                  {
                    "type": "text",
                    "text": " now):"
                  }
                ]
              }
            ]
          }
        },
        "source": [
          "Then two plots in separate figure environments (the code is identical to the previous code chunk, but the chunk option is the default `fig-show: asis` now):\n"
        ]
      },
      {
        "cell_type": "code",
        "execution_count": null,
        "metadata": {},
        "source": [
          "p <- ggplot(mtcars2, aes(hp, mpg, color = am)) +",
          "  geom_point()",
          "p",
          "p + geom_smooth()"
        ],
        "outputs": []
      },
      {
        "cell_type": "markdown",
        "metadata": {
          "tiptapContent": {
            "type": "doc",
            "content": [
              {
                "type": "paragraph",
                "content": [
                  {
                    "type": "text",
                    "text": "You may have noticed that the two figures have different captions, and that is because we used a character vector of length 2 for the chunk option "
                  },
                  {
                    "type": "text",
                    "marks": [
                      {
                        "type": "code"
                      }
                    ],
                    "text": "fig.cap"
                  },
                  {
                    "type": "text",
                    "text": " (something like "
                  },
                  {
                    "type": "text",
                    "marks": [
                      {
                        "type": "code"
                      }
                    ],
                    "text": "fig.cap = c('first plot', 'second plot')"
                  },
                  {
                    "type": "text",
                    "text": ")."
                  }
                ]
              },
              {
                "type": "blockquote",
                "content": [
                  {
                    "type": "paragraph",
                    "content": [
                      {
                        "type": "text",
                        "marks": [
                          {
                            "type": "bold"
                          }
                        ],
                        "text": "Using R within Chunk Options"
                      }
                    ]
                  },
                  {
                    "type": "paragraph",
                    "content": [
                      {
                        "type": "text",
                        "text": "If you wish to use raw R expressions as part of the chunk options (like above), then you need to define those in the "
                      },
                      {
                        "type": "text",
                        "marks": [
                          {
                            "type": "code"
                          }
                        ],
                        "text": "tag=value"
                      },
                      {
                        "type": "text",
                        "text": " format within the curly brackets "
                      },
                      {
                        "type": "text",
                        "marks": [
                          {
                            "type": "code"
                          }
                        ],
                        "text": "{r label, tag=value}"
                      },
                      {
                        "type": "text",
                        "text": " instead of the "
                      },
                      {
                        "type": "text",
                        "marks": [
                          {
                            "type": "code"
                          }
                        ],
                        "text": "tag: value"
                      },
                      {
                        "type": "text",
                        "text": " YAML syntax on a new line starting with the hashpipe "
                      },
                      {
                        "type": "text",
                        "marks": [
                          {
                            "type": "code"
                          }
                        ],
                        "text": "#|"
                      },
                      {
                        "type": "text",
                        "text": ". The former approach is documented on knitr’s website while the latter is explained in Quarto’s documentation."
                      }
                    ]
                  }
                ]
              },
              {
                "type": "paragraph",
                "content": [
                  {
                    "type": "text",
                    "text": "Next we show multiple plots in margin figures. Similarly, two plots in the same figure environment in the margin:"
                  }
                ]
              }
            ]
          }
        },
        "source": [
          "You may have noticed that the two figures have different captions, and that is because we used a character vector of length 2 for the chunk option `fig.cap` (something like `fig.cap = c('first plot', 'second plot')`).\n",
          "\n",
          "> **Using R within Chunk Options**\n",
          ">\n",
          "> If you wish to use raw R expressions as part of the chunk options (like above), then you need to define those in the `tag=value` format within the curly brackets `{r label, tag=value}` instead of the `tag: value` YAML syntax on a new line starting with the hashpipe `#|`. The former approach is documented on knitr’s website while the latter is explained in Quarto’s documentation.\n",
          "\n",
          "Next we show multiple plots in margin figures. Similarly, two plots in the same figure environment in the margin:\n"
        ]
      },
      {
        "cell_type": "code",
        "execution_count": null,
        "metadata": {},
        "source": [
          ""
        ],
        "outputs": []
      },
      {
        "cell_type": "markdown",
        "metadata": {
          "tiptapContent": {
            "type": "doc",
            "content": [
              {
                "type": "paragraph",
                "content": [
                  {
                    "type": "text",
                    "text": "Then two plots from the same code chunk placed in different figure environments:"
                  }
                ]
              }
            ]
          }
        },
        "source": [
          "Then two plots from the same code chunk placed in different figure environments:\n"
        ]
      },
      {
        "cell_type": "code",
        "execution_count": null,
        "metadata": {},
        "source": [
          ""
        ],
        "outputs": [
          {
            "output_type": "display_data",
            "metadata": {},
            "data": {}
          }
        ]
      },
      {
        "cell_type": "code",
        "execution_count": null,
        "metadata": {},
        "source": [
          ""
        ],
        "outputs": []
      },
      {
        "cell_type": "code",
        "execution_count": null,
        "metadata": {},
        "source": [
          ""
        ],
        "outputs": [
          {
            "output_type": "display_data",
            "metadata": {},
            "data": {}
          }
        ]
      },
      {
        "cell_type": "markdown",
        "metadata": {
          "tiptapContent": {
            "type": "doc",
            "content": [
              {
                "type": "paragraph",
                "content": [
                  {
                    "type": "text",
                    "text": "We blended some tables in the above code chunk only as "
                  },
                  {
                    "type": "text",
                    "marks": [
                      {
                        "type": "italic"
                      }
                    ],
                    "text": "placeholders"
                  },
                  {
                    "type": "text",
                    "text": " to make sure there is enough vertical space among the margin figures, otherwise they will be stacked tightly together. For a practical document, you should not insert too many margin figures consecutively and make the margin crowded."
                  }
                ]
              },
              {
                "type": "paragraph",
                "content": [
                  {
                    "type": "text",
                    "text": "You do not have to assign captions to figures. We show three figures with no captions below in the margin, in the main column, and in full width, respectively."
                  }
                ]
              }
            ]
          }
        },
        "source": [
          "We blended some tables in the above code chunk only as _placeholders_ to make sure there is enough vertical space among the margin figures, otherwise they will be stacked tightly together. For a practical document, you should not insert too many margin figures consecutively and make the margin crowded.\n",
          "\n",
          "You do not have to assign captions to figures. We show three figures with no captions below in the margin, in the main column, and in full width, respectively.\n"
        ]
      },
      {
        "cell_type": "code",
        "execution_count": null,
        "metadata": {},
        "source": [
          "# a boxplot of weight vs transmission; this figure",
          "# will be placed in the margin",
          "ggplot(mtcars2, aes(am, wt)) + geom_boxplot() +",
          "  coord_flip()"
        ],
        "outputs": []
      },
      {
        "cell_type": "code",
        "execution_count": null,
        "metadata": {},
        "source": [
          "# a figure in the main column",
          "p <- ggplot(mtcars, aes(wt, hp)) + geom_point()",
          "p"
        ],
        "outputs": [
          {
            "output_type": "display_data",
            "metadata": {},
            "data": {
              "image/png": "iVBORw0KGgoAAAANSUhEUgAAAqAAAAHgCAYAAAB6jN80AAAEDmlDQ1BrQ0dDb2xvclNwYWNlR2Vu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\nCCCAAAJWCPwfXo0MxRY8tFUAAAAASUVORK5CYII=\n"
            }
          }
        ]
      },
      {
        "cell_type": "code",
        "execution_count": null,
        "metadata": {},
        "source": [
          "# a fullwidth figure",
          "p + geom_smooth(method = 'lm') + facet_grid(~ gear)"
        ],
        "outputs": []
      },
      {
        "cell_type": "markdown",
        "metadata": {
          "tiptapContent": {
            "type": "doc",
            "content": [
              {
                "type": "heading",
                "attrs": {
                  "level": 1
                },
                "content": [
                  {
                    "type": "text",
                    "text": "Some Notes on Page Layout"
                  }
                ]
              },
              {
                "type": "paragraph",
                "content": [
                  {
                    "type": "text",
                    "text": "To see the Quarto markdown source of this example document, you may follow this link to Github."
                  }
                ]
              },
              {
                "type": "paragraph",
                "content": [
                  {
                    "type": "text",
                    "text": "R Core Team. 2021. "
                  },
                  {
                    "type": "text",
                    "marks": [
                      {
                        "type": "italic"
                      }
                    ],
                    "text": "R: A Language and Environment for Statistical Computing"
                  },
                  {
                    "type": "text",
                    "text": ". Vienna, Austria: R Foundation for Statistical Computing. https://www.R-project.org/."
                  }
                ]
              },
              {
                "type": "paragraph",
                "content": [
                  {
                    "type": "text",
                    "text": "Xie, Yihui, J. J. Allaire, and Garrett Grolemund. 2018. “Tufte Handouts.” In "
                  },
                  {
                    "type": "text",
                    "marks": [
                      {
                        "type": "italic"
                      }
                    ],
                    "text": "R Markdown: The Definitive Guide"
                  },
                  {
                    "type": "text",
                    "text": ", 137–46. Chapman; Hall/CRC. https://doi.org/10.1201/9781138359444-6."
                  }
                ]
              }
            ]
          }
        },
        "source": [
          "# Some Notes on Page Layout\n",
          "\n",
          "To see the Quarto markdown source of this example document, you may follow this link to Github.\n",
          "\n",
          "R Core Team. 2021. _R: A Language and Environment for Statistical Computing_. Vienna, Austria: R Foundation for Statistical Computing. https://www.R-project.org/.\n",
          "\n",
          "Xie, Yihui, J. J. Allaire, and Garrett Grolemund. 2018. “Tufte Handouts.” In _R Markdown: The Definitive Guide_, 137–46. Chapman; Hall/CRC. https://doi.org/10.1201/9781138359444-6.\n"
        ]
      }
    ],
    "metadata": {
      "active_editors": [
        {
          "name": "Michel Nivard",
          "avatar_url": "https://avatars.githubusercontent.com/u/11858442?v=4",
          "timestamp": "2024-12-23T14:45:29+01:00"
        },
        {
          "name": "MarkMittens",
          "avatar_url": "https://avatars.githubusercontent.com/u/192541225?v=4",
          "timestamp": "2024-12-23T14:45:29+01:00"
        }
      ]
    },
    "nbformat": 4,
    "nbformat_minor": 5
  },
  "metadata": {
    "active_editors": [
      {
        "name": "Michel Nivard",
        "avatar_url": "https://avatars.githubusercontent.com/u/11858442?v=4",
        "timestamp": "2024-12-23T14:45:29+01:00"
      },
      {
        "name": "MarkMittens",
        "avatar_url": "https://avatars.githubusercontent.com/u/192541225?v=4",
        "timestamp": "2024-12-23T14:45:29+01:00"
      }
    ]
  }
}