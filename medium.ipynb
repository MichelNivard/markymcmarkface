{
  "cells": [
    {
      "cell_type": "markdown",
      "metadata": {
        "tiptapContent": {
          "type": "doc",
          "content": [
            {
              "type": "heading",
              "attrs": {
                "level": 1
              },
              "content": [
                {
                  "type": "text",
                  "text": "medium"
                }
              ]
            },
            {
              "type": "paragraph",
              "content": [
                {
                  "type": "text",
                  "text": "tinyplot"
                },
                {
                  "type": "hardBreak"
                },
                {
                  "type": "text",
                  "text": "2024-09-25"
                }
              ]
            },
            {
              "type": "heading",
              "attrs": {
                "level": 1
              },
              "content": [
                {
                  "type": "text",
                  "text": "tinyplot"
                }
              ]
            },
            {
              "type": "heading",
              "attrs": {
                "level": 2
              },
              "content": [
                {
                  "type": "text",
                  "text": "What"
                }
              ]
            },
            {
              "type": "paragraph",
              "content": [
                {
                  "type": "text",
                  "marks": [
                    {
                      "type": "deletion",
                      "attrs": {
                        "data-op-user-id": "",
                        "data-op-user-nickname": "",
                        "data-op-date": 1734873900000
                      }
                    }
                  ],
                  "text": "A lightweight extension of the base R"
                },
                {
                  "type": "text",
                  "text": " graphics system, with support for a"
                },
                {
                  "type": "text",
                  "marks": [
                    {
                      "type": "comment",
                      "attrs": {
                        "commentId": "comment-1734900073670",
                        "username": "Michel Nivard",
                        "avatarUrl": "https://avatars.githubusercontent.com/u/11858442?v=4",
                        "text": "ssxasx",
                        "timestamp": "2024-12-22T20:41:13.671Z",
                        "resolved": false
                      }
                    }
                  ],
                  "text": "utomatic "
                },
                {
                  "type": "text",
                  "text": "grouping, legends, "
                },
                {
                  "type": "text",
                  "marks": [
                    {
                      "type": "comment",
                      "attrs": {
                        "commentId": "comment-1734898942869",
                        "username": "Michel Nivard",
                        "avatarUrl": "https://avatars.githubusercontent.com/u/11858442?v=4",
                        "text": "Check it out!",
                        "timestamp": "2024-12-22T20:22:22.870Z",
                        "resolved": false
                      }
                    }
                  ],
                  "text": "facets, and various other"
                },
                {
                  "type": "text",
                  "text": " enhancements."
                }
              ]
            },
            {
              "type": "paragraph",
              "content": [
                {
                  "type": "text",
                  "text": "The stable version of "
                },
                {
                  "type": "text",
                  "marks": [
                    {
                      "type": "bold"
                    }
                  ],
                  "text": "tinyplot"
                },
                {
                  "type": "text",
                  "text": " is available on CRAN."
                },
                {
                  "type": "text",
                  "marks": [
                    {
                      "type": "insertion",
                      "attrs": {
                        "data-op-user-id": "",
                        "data-op-user-nickname": "",
                        "data-op-date": 1734875400000
                      }
                    }
                  ],
                  "text": " lets go now!"
                }
              ]
            },
            {
              "type": "codeBlock",
              "attrs": {
                "language": null
              },
              "content": [
                {
                  "type": "text",
                  "text": "install.packages(\"tinyplot\")"
                }
              ]
            },
            {
              "type": "table",
              "content": [
                {
                  "type": "tableRow",
                  "content": [
                    {
                      "type": "tableHeader",
                      "attrs": {
                        "colspan": 1,
                        "rowspan": 1,
                        "colwidth": null
                      },
                      "content": [
                        {
                          "type": "paragraph",
                          "content": [
                            {
                              "type": "text",
                              "text": "rfrf"
                            }
                          ]
                        }
                      ]
                    },
                    {
                      "type": "tableHeader",
                      "attrs": {
                        "colspan": 1,
                        "rowspan": 1,
                        "colwidth": null
                      },
                      "content": [
                        {
                          "type": "paragraph",
                          "content": [
                            {
                              "type": "text",
                              "text": "rqr"
                            }
                          ]
                        }
                      ]
                    },
                    {
                      "type": "tableHeader",
                      "attrs": {
                        "colspan": 1,
                        "rowspan": 1,
                        "colwidth": null
                      },
                      "content": [
                        {
                          "type": "paragraph",
                          "content": [
                            {
                              "type": "text",
                              "text": "rfeqrfsv"
                            }
                          ]
                        }
                      ]
                    }
                  ]
                },
                {
                  "type": "tableRow",
                  "content": [
                    {
                      "type": "tableCell",
                      "attrs": {
                        "colspan": 1,
                        "rowspan": 1,
                        "colwidth": null
                      },
                      "content": [
                        {
                          "type": "paragraph",
                          "content": [
                            {
                              "type": "text",
                              "text": "Results"
                            }
                          ]
                        }
                      ]
                    },
                    {
                      "type": "tableCell",
                      "attrs": {
                        "colspan": 1,
                        "rowspan": 1,
                        "colwidth": null
                      },
                      "content": [
                        {
                          "type": "paragraph",
                          "content": [
                            {
                              "type": "text",
                              "text": "beta"
                            }
                          ]
                        }
                      ]
                    },
                    {
                      "type": "tableCell",
                      "attrs": {
                        "colspan": 1,
                        "rowspan": 1,
                        "colwidth": null
                      },
                      "content": [
                        {
                          "type": "paragraph",
                          "content": [
                            {
                              "type": "text",
                              "text": "se"
                            }
                          ]
                        }
                      ]
                    }
                  ]
                },
                {
                  "type": "tableRow",
                  "content": [
                    {
                      "type": "tableCell",
                      "attrs": {
                        "colspan": 1,
                        "rowspan": 1,
                        "colwidth": null
                      },
                      "content": [
                        {
                          "type": "paragraph",
                          "content": [
                            {
                              "type": "text",
                              "text": "first"
                            }
                          ]
                        }
                      ]
                    },
                    {
                      "type": "tableCell",
                      "attrs": {
                        "colspan": 1,
                        "rowspan": 1,
                        "colwidth": null
                      },
                      "content": [
                        {
                          "type": "paragraph",
                          "content": [
                            {
                              "type": "text",
                              "text": "1.1"
                            }
                          ]
                        }
                      ]
                    },
                    {
                      "type": "tableCell",
                      "attrs": {
                        "colspan": 1,
                        "rowspan": 1,
                        "colwidth": null
                      },
                      "content": [
                        {
                          "type": "paragraph",
                          "content": [
                            {
                              "type": "text",
                              "text": ".2"
                            }
                          ]
                        }
                      ]
                    }
                  ]
                }
              ]
            },
            {
              "type": "paragraph",
              "content": [
                {
                  "type": "text",
                  "text": "Or, you can grab the latest development version from R-universe."
                }
              ]
            },
            {
              "type": "codeBlock",
              "attrs": {
                "language": null
              },
              "content": [
                {
                  "type": "text",
                  "text": "install.packages(\"tinyplot\", repos = \"https://grantmcdermott.r-universe.dev\")\n"
                }
              ]
            },
            {
              "type": "heading",
              "attrs": {
                "level": 2
              },
              "content": [
                {
                  "type": "text",
                  "text": "Why"
                }
              ]
            },
            {
              "type": "paragraph",
              "content": [
                {
                  "type": "text",
                  "text": "R users are spoiled for choice when it comes to visualization frameworks. The options, of course, include "
                },
                {
                  "type": "text",
                  "marks": [
                    {
                      "type": "bold"
                    }
                  ],
                  "text": "lattice"
                },
                {
                  "type": "text",
                  "text": " and "
                },
                {
                  "type": "text",
                  "marks": [
                    {
                      "type": "bold"
                    }
                  ],
                  "text": "ggplot2"
                },
                {
                  "type": "text",
                  "text": "; say nothing of the bewildering bloep array of extensions built around, on top of, and in between these amazing packages.[1]"
                }
              ]
            },
            {
              "type": "paragraph",
              "content": [
                {
                  "type": "text",
                  "text": "Given the wealth of options, it is perhaps understandable that even avid R users can overlook the base R "
                },
                {
                  "type": "text",
                  "marks": [
                    {
                      "type": "bold"
                    }
                  ],
                  "text": "graphics"
                },
                {
                  "type": "text",
                  "text": " system. This is unfortunate, because base R offers very powerful and flexible plotting facilities.[2] The downside of this power and flexibility is that base R plotting can require a lot of manual tinkering. A case in point is plotting grouped data with an appropriate legend. Doing so with the generic "
                },
                {
                  "type": "text",
                  "marks": [
                    {
                      "type": "code"
                    }
                  ],
                  "text": "plot()"
                },
                {
                  "type": "text",
                  "text": " function can require several function calls or a loop, fiddling with your plot regions, and then generating the legend manually."
                }
              ]
            },
            {
              "type": "paragraph",
              "content": [
                {
                  "type": "text",
                  "text": "The "
                },
                {
                  "type": "text",
                  "marks": [
                    {
                      "type": "bold"
                    }
                  ],
                  "text": "tinyplot"
                },
                {
                  "type": "text",
                  "text": " package aims to remove this overhead. It provides a lightweight extension of the base R graphics system that preserves the same core logic and syntax, but with numerous convenience features to make base R plotting a more user-friendly experience. For example, the core "
                },
                {
                  "type": "text",
                  "marks": [
                    {
                      "type": "code"
                    }
                  ],
                  "text": "tinyplot()"
                },
                {
                  "type": "text",
                  "text": " function—or its shorthand alias "
                },
                {
                  "type": "text",
                  "marks": [
                    {
                      "type": "code"
                    }
                  ],
                  "text": "plt()"
                },
                {
                  "type": "text",
                  "text": "—makes it easy to plot grouped datasets and generate automatic legends in a single function call. Or, you can display groups in separate facets without having to worry about manually setting plot regions. While "
                },
                {
                  "type": "text",
                  "marks": [
                    {
                      "type": "bold"
                    }
                  ],
                  "text": "tinyplot"
                },
                {
                  "type": "text",
                  "text": " offers these and various other enhancements, it tries as far as possible to be a drop-in replacement for the equivalent base plotting function. Users should generally be able to swap out a valid "
                },
                {
                  "type": "text",
                  "marks": [
                    {
                      "type": "code"
                    }
                  ],
                  "text": "plot()"
                },
                {
                  "type": "text",
                  "text": " call for "
                },
                {
                  "type": "text",
                  "marks": [
                    {
                      "type": "code"
                    }
                  ],
                  "text": "tinyplot()"
                },
                {
                  "type": "text",
                  "text": "/"
                },
                {
                  "type": "text",
                  "marks": [
                    {
                      "type": "code"
                    }
                  ],
                  "text": "plt()"
                },
                {
                  "type": "text",
                  "text": " without any changes to the expected output."
                }
              ]
            },
            {
              "type": "paragraph",
              "content": [
                {
                  "type": "text",
                  "text": "It is worth emphasizing that "
                },
                {
                  "type": "text",
                  "marks": [
                    {
                      "type": "bold"
                    }
                  ],
                  "text": "tinyplot"
                },
                {
                  "type": "text",
                  "text": " requires "
                },
                {
                  "type": "text",
                  "marks": [
                    {
                      "type": "italic"
                    }
                  ],
                  "text": "only"
                },
                {
                  "type": "text",
                  "text": " base R. It has zero recursive dependencies and we have been careful to keep its installation size down to a minimum. "
                },
                {
                  "type": "text",
                  "marks": [
                    {
                      "type": "bold"
                    }
                  ],
                  "text": "tinyplot"
                },
                {
                  "type": "text",
                  "text": " should thus provide an attractive and lightweight option for package developers (or regular R users!) who would like to produce convenient and sophisticated plots, combined with a minimal footprint."
                }
              ]
            },
            {
              "type": "heading",
              "attrs": {
                "level": 2
              },
              "content": [
                {
                  "type": "text",
                  "text": "Quickstart"
                }
              ]
            },
            {
              "type": "paragraph",
              "content": [
                {
                  "type": "text",
                  "text": "The "
                },
                {
                  "type": "text",
                  "marks": [
                    {
                      "type": "bold"
                    }
                  ],
                  "text": "tinyplot"
                },
                {
                  "type": "text",
                  "text": " website includes a detailed introductory tutorial, with numerous examples. But here are some quickstart examples of the package in action."
                }
              ]
            },
            {
              "type": "paragraph",
              "content": [
                {
                  "type": "text",
                  "text": "[1] Both "
                },
                {
                  "type": "text",
                  "marks": [
                    {
                      "type": "bold"
                    }
                  ],
                  "text": "lattice"
                },
                {
                  "type": "text",
                  "text": " and "
                },
                {
                  "type": "text",
                  "marks": [
                    {
                      "type": "bold"
                    }
                  ],
                  "text": "ggplot2"
                },
                {
                  "type": "text",
                  "text": " are built on top of the "
                },
                {
                  "type": "text",
                  "marks": [
                    {
                      "type": "bold"
                    }
                  ],
                  "text": "grid"
                },
                {
                  "type": "text",
                  "text": " package, which was incoporated into the base R distribution way back in R 2.0.0. "
                },
                {
                  "type": "text",
                  "marks": [
                    {
                      "type": "bold"
                    }
                  ],
                  "text": "ggplot2"
                },
                {
                  "type": "text",
                  "text": ", in particular, is arguably the most important and influential (high-level) graphics library of the last two decades, across any programming language."
                }
              ]
            },
            {
              "type": "paragraph",
              "content": [
                {
                  "type": "text",
                  "text": "[2] Just type "
                },
                {
                  "type": "text",
                  "marks": [
                    {
                      "type": "code"
                    }
                  ],
                  "text": "demo(graphics)"
                },
                {
                  "type": "text",
                  "text": " or "
                },
                {
                  "type": "text",
                  "marks": [
                    {
                      "type": "code"
                    }
                  ],
                  "text": "demo(persp)"
                },
                {
                  "type": "text",
                  "text": " into your R console to get an idea. Or, take a look at these two excellent tutorials."
                }
              ]
            }
          ]
        }
      },
      "source": [
        "# medium\n",
        "\n",
        "tinyplot\n",
        "2024-09-25\n",
        "\n",
        "# tinyplot\n",
        "\n",
        "## What\n",
        "\n",
        "~A lightweight extension of the base R~ graphics system, with support for automatic grouping, legends, facets, and various other enhancements.\n",
        "\n",
        "The stable version of **tinyplot** is available on CRAN. <ins data-op-user-id=\"\" data-op-user-nickname=\"\" data-op-date=\"1734875400000\"> lets go now!</ins>\n",
        "\n",
        "```\n",
        "install.packages(\"tinyplot\")\n",
        "```\n",
        "| rfrf | rqr | rfeqrfsv |\n",
        "| --- | --- | --- |\n",
        "| Results | beta | se |\n",
        "| first | 1.1 | .2 |\n",
        "Or, you can grab the latest development version from R-universe.\n",
        "\n",
        "```\n",
        "install.packages(\"tinyplot\", repos = \"https://grantmcdermott.r-universe.dev\")\n",
        "```\n",
        "\n",
        "## Why\n",
        "\n",
        "R users are spoiled for choice when it comes to visualization frameworks. The options, of course, include **lattice** and **ggplot2**; say nothing of the bewildering bloep array of extensions built around, on top of, and in between these amazing packages.\\[1\\]\n",
        "\n",
        "Given the wealth of options, it is perhaps understandable that even avid R users can overlook the base R **graphics** system. This is unfortunate, because base R offers very powerful and flexible plotting facilities.\\[2\\] The downside of this power and flexibility is that base R plotting can require a lot of manual tinkering. A case in point is plotting grouped data with an appropriate legend. Doing so with the generic `plot()` function can require several function calls or a loop, fiddling with your plot regions, and then generating the legend manually.\n",
        "\n",
        "The **tinyplot** package aims to remove this overhead. It provides a lightweight extension of the base R graphics system that preserves the same core logic and syntax, but with numerous convenience features to make base R plotting a more user-friendly experience. For example, the core `tinyplot()` function—or its shorthand alias `plt()`—makes it easy to plot grouped datasets and generate automatic legends in a single function call. Or, you can display groups in separate facets without having to worry about manually setting plot regions. While **tinyplot** offers these and various other enhancements, it tries as far as possible to be a drop-in replacement for the equivalent base plotting function. Users should generally be able to swap out a valid `plot()` call for `tinyplot()`/`plt()` without any changes to the expected output.\n",
        "\n",
        "It is worth emphasizing that **tinyplot** requires _only_ base R. It has zero recursive dependencies and we have been careful to keep its installation size down to a minimum. **tinyplot** should thus provide an attractive and lightweight option for package developers (or regular R users!) who would like to produce convenient and sophisticated plots, combined with a minimal footprint.\n",
        "\n",
        "## Quickstart\n",
        "\n",
        "The **tinyplot** website includes a detailed introductory tutorial, with numerous examples. But here are some quickstart examples of the package in action.\n",
        "\n",
        "\\[1\\] Both **lattice** and **ggplot2** are built on top of the **grid** package, which was incoporated into the base R distribution way back in R 2.0.0. **ggplot2**, in particular, is arguably the most important and influential (high-level) graphics library of the last two decades, across any programming language.\n",
        "\n",
        "\\[2\\] Just type `demo(graphics)` or `demo(persp)` into your R console to get an idea. Or, take a look at these two excellent tutorials.\n"
      ]
    },
    {
      "cell_type": "code",
      "execution_count": null,
      "metadata": {},
      "source": [
        "library(tinyplot)"
      ],
      "outputs": []
    },
    {
      "cell_type": "markdown",
      "metadata": {
        "tiptapContent": {
          "type": "doc",
          "content": [
            {
              "type": "paragraph",
              "content": [
                {
                  "type": "text",
                  "text": "Grouped scatterplot with automatic legend:"
                }
              ]
            }
          ]
        }
      },
      "source": [
        "Grouped scatterplot with automatic legend:\n"
      ]
    },
    {
      "cell_type": "code",
      "execution_count": null,
      "metadata": {},
      "source": [
        "# with(iris, tinyplot(x = Petal.Length, y = Sepal.Length, by = Species)) # atomictinyplot(Sepal.Length ~ Petal.Length | Species, data = iris)             # formula"
      ],
      "outputs": [
        {
          "output_type": "display_data",
          "metadata": {},
          "data": {
            "image/png": "[encoded data removed]"
          }
        }
      ]
    },
    {
      "cell_type": "markdown",
      "metadata": {
        "tiptapContent": {
          "type": "doc",
          "content": [
            {
              "type": "paragraph",
              "content": [
                {
                  "type": "text",
                  "text": "If you would prefer to save on a few keystrokes, you can use the shorthand "
                },
                {
                  "type": "text",
                  "marks": [
                    {
                      "type": "code"
                    }
                  ],
                  "text": "plt()"
                },
                {
                  "type": "text",
                  "text": " alias instead instead of typing out "
                },
                {
                  "type": "text",
                  "marks": [
                    {
                      "type": "code"
                    }
                  ],
                  "text": "tinyplot()"
                },
                {
                  "type": "text",
                  "text": " in full. Here’s the same plot with this shorthand alias, plus a few aesthetic tweaks:"
                }
              ]
            }
          ]
        }
      },
      "source": [
        "If you would prefer to save on a few keystrokes, you can use the shorthand `plt()` alias instead instead of typing out `tinyplot()` in full. Here’s the same plot with this shorthand alias, plus a few aesthetic tweaks:\n"
      ]
    },
    {
      "cell_type": "code",
      "execution_count": null,
      "metadata": {},
      "source": [
        "plt(  Sepal.Length ~ Petal.Length | Species,   data = iris,  palette = \"dark\", pch = 16,  grid = TRUE, frame = FALSE)"
      ],
      "outputs": [
        {
          "output_type": "display_data",
          "metadata": {},
          "data": {
            "image/png": "[encoded data removed]"
          }
        }
      ]
    },
    {
      "cell_type": "markdown",
      "metadata": {
        "tiptapContent": {
          "type": "doc",
          "content": [
            {
              "type": "paragraph",
              "content": [
                {
                  "type": "text",
                  "text": "Grouped grouped density plot with automatic legend:"
                }
              ]
            }
          ]
        }
      },
      "source": [
        "Grouped grouped density plot with automatic legend:\n"
      ]
    },
    {
      "cell_type": "code",
      "execution_count": null,
      "metadata": {},
      "source": [
        "plt(  ~ Petal.Length | Species,  data = iris,  type = \"density\",  palette = \"dark\", fill = \"by\",  grid = TRUE,  main = \"Distribution of petal lengths by species\")"
      ],
      "outputs": [
        {
          "output_type": "display_data",
          "metadata": {},
          "data": {
            "image/png": "[encoded data removed]"
          }
        }
      ]
    },
    {
      "cell_type": "markdown",
      "metadata": {
        "tiptapContent": {
          "type": "doc",
          "content": [
            {
              "type": "paragraph",
              "content": [
                {
                  "type": "text",
                  "text": "Grouped scatterplot with (continuous) gradient legend, combined with facet layout:"
                }
              ]
            }
          ]
        }
      },
      "source": [
        "Grouped scatterplot with (continuous) gradient legend, combined with facet layout:\n"
      ]
    },
    {
      "cell_type": "code",
      "execution_count": null,
      "metadata": {},
      "source": [
        "plt(  Sepal.Length ~ Petal.Length | Sepal.Length, data = iris,  facet = ~Species, facet.args = list(bg = \"grey90\"),  pch = 19,  main = \"Faceted Species!\",  grid = TRUE, frame = FALSE)"
      ],
      "outputs": [
        {
          "output_type": "display_data",
          "metadata": {},
          "data": {
            "image/png": "[encoded data removed]"
          }
        }
      ]
    },
    {
      "cell_type": "markdown",
      "metadata": {
        "tiptapContent": {
          "type": "doc",
          "content": [
            {
              "type": "paragraph",
              "content": [
                {
                  "type": "text",
                  "text": "Hopefully, these have been enough to pique your interest. Head over to the intro tutorial for many more examples, including model-based and custom plot types."
                }
              ]
            }
          ]
        }
      },
      "source": [
        "Hopefully, these have been enough to pique your interest. Head over to the intro tutorial for many more examples, including model-based and custom plot types.\n"
      ]
    }
  ],
  "metadata": {},
  "nbformat": 4,
  "nbformat_minor": 5
}